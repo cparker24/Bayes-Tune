{
 "cells": [
  {
   "cell_type": "code",
   "execution_count": null,
   "metadata": {},
   "outputs": [],
   "source": [
    "import numpy\n",
    "import pandas\n",
    "from src.data_objects import AllData\n",
    "from src.functions import *\n",
    "\n",
    "retrain = True\n",
    "runchain = True\n",
    "\n",
    "model_par = \"input/epemDesign.txt\"\n",
    "ThisData = AllData\n",
    "outdir = \"/data/rjfgroup/rjf01/cameron.parker/tunes/epem/\""
   ]
  },
  {
   "cell_type": "markdown",
   "metadata": {},
   "source": [
    "Trimming points and obs ranges"
   ]
  },
  {
   "cell_type": "code",
   "execution_count": null,
   "metadata": {},
   "outputs": [],
   "source": [
    "trimRanges(ThisData)"
   ]
  },
  {
   "cell_type": "code",
   "execution_count": null,
   "metadata": {},
   "outputs": [],
   "source": [
    "badpoints = []\n",
    "trimPoints(badpoints,ThisData)"
   ]
  },
  {
   "cell_type": "markdown",
   "metadata": {},
   "source": [
    "Making Data pkl for selected observables"
   ]
  },
  {
   "cell_type": "code",
   "execution_count": null,
   "metadata": {},
   "outputs": [],
   "source": [
    "buildDataPkl(ThisData)\n",
    "print(ThisData[\"datapkl\"])"
   ]
  },
  {
   "cell_type": "markdown",
   "metadata": {},
   "source": [
    "Getting emulators"
   ]
  },
  {
   "cell_type": "code",
   "execution_count": null,
   "metadata": {},
   "outputs": [],
   "source": [
    "from src.emulator_BAND import EmulatorBAND\n",
    "\n",
    "if retrain:\n",
    "    buildObsPkls(ThisData)\n",
    "    trainEmulators(model_par, ThisData)\n",
    "else:\n",
    "    readEmulators(ThisData)"
   ]
  },
  {
   "cell_type": "markdown",
   "metadata": {},
   "source": [
    "Running Chain"
   ]
  },
  {
   "cell_type": "code",
   "execution_count": null,
   "metadata": {},
   "outputs": [],
   "source": [
    "from src.mcmc import Chain\n",
    "import os\n",
    "\n",
    "mymcmc = Chain(expdata_path=ThisData[\"datapkl\"], model_parafile=model_par)\n",
    "mymcmc.loadEmulator(getEmuPathList(ThisData))"
   ]
  },
  {
   "cell_type": "code",
   "execution_count": null,
   "metadata": {},
   "outputs": [],
   "source": [
    "os.environ[\"OMP_NUM_THREADS\"] = \"1\"\n",
    "# may have to: export RDMAV_FORK_SAFE=1 before running the code\n",
    "\n",
    "n_effective=2000\n",
    "n_active=1000\n",
    "n_prior=4000\n",
    "sample=\"tpcn\"\n",
    "n_max_steps=100\n",
    "random_state=42\n",
    "\n",
    "n_total = 25000\n",
    "n_evidence = 0\n",
    "\n",
    "pool = 12\n",
    "\n",
    "if runchain:\n",
    "    sampler = mymcmc.run_pocoMC(n_effective=n_effective, n_active=n_active,\n",
    "                            n_prior=n_prior, sample=sample,\n",
    "                            n_max_steps=n_max_steps, random_state=random_state,\n",
    "                            n_total=n_total, n_evidence=n_evidence, pool=pool)"
   ]
  },
  {
   "cell_type": "markdown",
   "metadata": {},
   "source": [
    "Corner Plot"
   ]
  },
  {
   "cell_type": "code",
   "execution_count": null,
   "metadata": {},
   "outputs": [],
   "source": [
    "import pickle\n",
    "import corner\n",
    "import matplotlib.pyplot as plt\n",
    "import numpy as np\n",
    "        \n",
    "with open('mcmc/chain.pkl', 'rb') as pf:\n",
    "        data = pickle.load(pf)\n",
    "\n",
    "labels = mymcmc.label\n",
    "\n",
    "fig = corner.corner(data['chain'], weights=data['weights'], labels=labels, color=\"C0\")\n",
    "plt.show()"
   ]
  },
  {
   "cell_type": "code",
   "execution_count": null,
   "metadata": {},
   "outputs": [],
   "source": [
    "TransformedSamples = np.copy(data['chain'])\n",
    "TransformedSamples[:,0] = data['chain'][:,0]\n",
    "TransformedSamples[:,1] = (2*data['chain'][:,3]+0.05) + (data['chain'][:,0]-(2*data['chain'][:,3]+0.05))*data['chain'][:,1]\n",
    "TransformedSamples[:,2] = data['chain'][:,2]\n",
    "TransformedSamples[:,3] = data['chain'][:,3]\n",
    "TransformedSamples[:,4] = data['chain'][:,4]\n",
    "TransformedSamples[:,5] = data['chain'][:,5]\n",
    "\n",
    "labels[1] = \"QS\"\n",
    "fig = corner.corner(TransformedSamples, weights=data['weights'], labels=labels, color=\"C0\")\n",
    "plt.show()\n",
    "\n",
    "bestParams = extract_parameters(TransformedSamples, labels, \"/data/rjfgroup/rjf01/cameron.parker/tunes/epem/\")"
   ]
  },
  {
   "cell_type": "markdown",
   "metadata": {},
   "source": [
    "Priors"
   ]
  },
  {
   "cell_type": "code",
   "execution_count": null,
   "metadata": {},
   "outputs": [],
   "source": [
    "makeplot(ThisData, \"Priors\", \"/data/rjfgroup/rjf01/cameron.parker/tunes/epem/\")"
   ]
  },
  {
   "cell_type": "markdown",
   "metadata": {},
   "source": [
    "Posteriors"
   ]
  },
  {
   "cell_type": "code",
   "execution_count": null,
   "metadata": {},
   "outputs": [],
   "source": [
    "makeplot(ThisData, \"Posteriors\", \"/data/rjfgroup/rjf01/cameron.parker/tunes/epem/\", samples=data[\"chain\"])"
   ]
  }
 ],
 "metadata": {
  "kernelspec": {
   "display_name": "Python 3",
   "language": "python",
   "name": "python3"
  },
  "language_info": {
   "codemirror_mode": {
    "name": "ipython",
    "version": 3
   },
   "file_extension": ".py",
   "mimetype": "text/x-python",
   "name": "python",
   "nbconvert_exporter": "python",
   "pygments_lexer": "ipython3",
   "version": "3.8.17"
  }
 },
 "nbformat": 4,
 "nbformat_minor": 2
}
