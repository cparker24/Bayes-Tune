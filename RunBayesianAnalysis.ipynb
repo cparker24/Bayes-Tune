{
 "cells": [
  {
   "cell_type": "code",
   "execution_count": 2,
   "metadata": {},
   "outputs": [],
   "source": [
    "%matplotlib inline\n",
    "\n",
    "from os import path\n",
    "import os\n",
    "import sys\n",
    "sys.path.insert(0, path.abspath('../'))\n",
    "\n",
    "from src.mcmc import Chain"
   ]
  },
  {
   "cell_type": "code",
   "execution_count": 3,
   "metadata": {},
   "outputs": [
    {
     "name": "stdout",
     "output_type": "stream",
     "text": [
      "[INFO][mcmc] Initializing MCMC ...\n",
      "[INFO][mcmc] Final Markov Chain results will be saved in mcmc/chain.pkl\n",
      "[INFO][mcmc] Loading the model parameters space from preds/modelDesign.txt ...\n"
     ]
    },
    {
     "name": "stdout",
     "output_type": "stream",
     "text": [
      "[INFO][mcmc] Run MCMC with emcee...\n",
      "[INFO][mcmc] Loading the experiment data from data/data.pkl ...\n",
      "[INFO][mcmc] Experimental dataset size: 140\n"
     ]
    }
   ],
   "source": [
    "exp_path = \"data/data.pkl\"\n",
    "model_par = \"preds/modelDesign.txt\"\n",
    "mymcmc = Chain(expdata_path=exp_path, model_parafile=model_par)\n"
   ]
  },
  {
   "cell_type": "code",
   "execution_count": 4,
   "metadata": {},
   "outputs": [
    {
     "name": "stdout",
     "output_type": "stream",
     "text": [
      "[INFO][mcmc] Number of Emulators: 4\n"
     ]
    }
   ],
   "source": [
    "folder = \"trained_emulators_no_PCA/\"\n",
    "emuPathList = [\n",
    "    folder+\"hadrons_train_PCSK_trained.sav\",\n",
    "    folder+\"pions_train_PCSK_trained.sav\",\n",
    "    folder+\"kaons_train_PCSK_trained.sav\",\n",
    "    folder+\"protons_train_PCSK_trained.sav\",\n",
    "]\n",
    "mymcmc.loadEmulator(emuPathList)"
   ]
  },
  {
   "cell_type": "code",
   "execution_count": 5,
   "metadata": {},
   "outputs": [
    {
     "name": "stdout",
     "output_type": "stream",
     "text": [
      "[INFO][mcmc] Generate the prior class for pocoMC ...\n",
      "[INFO][mcmc] Starting pocoMC ...\n"
     ]
    },
    {
     "name": "stderr",
     "output_type": "stream",
     "text": [
      "Iter: 40it [55:28, 83.22s/it, beta=1, calls=702000, ESS=49279, logZ=-200, logP=-175, acc=0.742, steps=3, eff=1]         "
     ]
    },
    {
     "name": "stdout",
     "output_type": "stream",
     "text": [
      "[INFO][mcmc] Generate the posterior samples ...\n"
     ]
    },
    {
     "name": "stderr",
     "output_type": "stream",
     "text": [
      "\n"
     ]
    },
    {
     "name": "stdout",
     "output_type": "stream",
     "text": [
      "[INFO][mcmc] Generate the evidence ...\n",
      "Log evidence:  -199.9893007378884\n",
      "Log evidence error:  0.0037858260803364245\n",
      "[INFO][mcmc] Writing pocoMC chains to file...\n"
     ]
    }
   ],
   "source": [
    "os.environ[\"OMP_NUM_THREADS\"] = \"1\"\n",
    "# may have to: export RDMAV_FORK_SAFE=1 before running the code\n",
    "\n",
    "n_effective=8000\n",
    "n_active=4000\n",
    "n_prior=16000\n",
    "sample=\"tpcn\"\n",
    "n_max_steps=100\n",
    "random_state=42\n",
    "\n",
    "n_total = 50000\n",
    "n_evidence = 50000\n",
    "\n",
    "pool = 12\n",
    "\n",
    "sampler = mymcmc.run_pocoMC(n_effective=n_effective, n_active=n_active,\n",
    "                            n_prior=n_prior, sample=sample,\n",
    "                            n_max_steps=n_max_steps, random_state=random_state,\n",
    "                            n_total=n_total, n_evidence=n_evidence, pool=pool)\n"
   ]
  }
 ],
 "metadata": {
  "kernelspec": {
   "display_name": "Python 3",
   "language": "python",
   "name": "python3"
  },
  "language_info": {
   "codemirror_mode": {
    "name": "ipython",
    "version": 3
   },
   "file_extension": ".py",
   "mimetype": "text/x-python",
   "name": "python",
   "nbconvert_exporter": "python",
   "pygments_lexer": "ipython3",
   "version": "3.11.4"
  }
 },
 "nbformat": 4,
 "nbformat_minor": 2
}
