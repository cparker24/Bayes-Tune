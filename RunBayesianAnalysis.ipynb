{
 "cells": [
  {
   "cell_type": "code",
   "execution_count": 2,
   "metadata": {},
   "outputs": [],
   "source": [
    "%matplotlib inline\n",
    "\n",
    "from os import path\n",
    "import os\n",
    "import sys\n",
    "sys.path.insert(0, path.abspath('../'))\n",
    "\n",
    "from src.mcmc import Chain"
   ]
  },
  {
   "cell_type": "code",
   "execution_count": 3,
   "metadata": {},
   "outputs": [
    {
     "name": "stdout",
     "output_type": "stream",
     "text": [
      "[INFO][mcmc] Initializing MCMC ...\n",
      "[INFO][mcmc] Final Markov Chain results will be saved in mcmc/chain.pkl\n",
      "[INFO][mcmc] Loading the model parameters space from preds/modelDesign.txt ...\n",
      "[INFO][mcmc] Run MCMC with emcee...\n",
      "[INFO][mcmc] Loading the experiment data from data/data.pkl ...\n",
      "[INFO][mcmc] Experimental dataset size: 140\n"
     ]
    }
   ],
   "source": [
    "exp_path = \"data/data.pkl\"\n",
    "model_par = \"preds/modelDesign.txt\"\n",
    "mymcmc = Chain(expdata_path=exp_path, model_parafile=model_par)\n"
   ]
  },
  {
   "cell_type": "code",
   "execution_count": 4,
   "metadata": {},
   "outputs": [
    {
     "name": "stdout",
     "output_type": "stream",
     "text": [
      "[INFO][mcmc] Number of Emulators: 4\n"
     ]
    }
   ],
   "source": [
    "folder = \"trained_emulators_no_PCA/\"\n",
    "emuPathList = [\n",
    "    folder+\"hadrons_train_PCSK_trained.sav\",\n",
    "    folder+\"pions_train_PCSK_trained.sav\",\n",
    "    folder+\"kaons_train_PCSK_trained.sav\",\n",
    "    folder+\"protons_train_PCSK_trained.sav\",\n",
    "]\n",
    "mymcmc.loadEmulator(emuPathList)"
   ]
  },
  {
   "cell_type": "code",
   "execution_count": 8,
   "metadata": {},
   "outputs": [
    {
     "ename": "FileNotFoundError",
     "evalue": "[Errno 2] No such file or directory: './mcmc/chain.pkl'",
     "output_type": "error",
     "traceback": [
      "\u001b[0;31m---------------------------------------------------------------------------\u001b[0m",
      "\u001b[0;31mFileNotFoundError\u001b[0m                         Traceback (most recent call last)",
      "Cell \u001b[0;32mIn[8], line 3\u001b[0m\n\u001b[1;32m      1\u001b[0m \u001b[38;5;66;03m# read the chain.pkl file and print the shape of the chain and the likelihood\u001b[39;00m\n\u001b[1;32m      2\u001b[0m \u001b[38;5;28;01mimport\u001b[39;00m \u001b[38;5;21;01mpickle\u001b[39;00m\n\u001b[0;32m----> 3\u001b[0m \u001b[38;5;28;01mwith\u001b[39;00m \u001b[38;5;28;43mopen\u001b[39;49m\u001b[43m(\u001b[49m\u001b[38;5;124;43m\"\u001b[39;49m\u001b[38;5;124;43m./mcmc/chain.pkl\u001b[39;49m\u001b[38;5;124;43m\"\u001b[39;49m\u001b[43m,\u001b[49m\u001b[43m \u001b[49m\u001b[38;5;124;43m\"\u001b[39;49m\u001b[38;5;124;43mrb\u001b[39;49m\u001b[38;5;124;43m\"\u001b[39;49m\u001b[43m)\u001b[49m \u001b[38;5;28;01mas\u001b[39;00m f:\n\u001b[1;32m      4\u001b[0m     chain \u001b[38;5;241m=\u001b[39m pickle\u001b[38;5;241m.\u001b[39mload(f)\n\u001b[1;32m      5\u001b[0m     \u001b[38;5;28mprint\u001b[39m(chain[\u001b[38;5;124m'\u001b[39m\u001b[38;5;124mchain\u001b[39m\u001b[38;5;124m'\u001b[39m]\u001b[38;5;241m.\u001b[39mshape)\n",
      "File \u001b[0;32m/scratch/user/cameron.parker/projects/Bayes-Tune/venv/lib/python3.11/site-packages/IPython/core/interactiveshell.py:324\u001b[0m, in \u001b[0;36m_modified_open\u001b[0;34m(file, *args, **kwargs)\u001b[0m\n\u001b[1;32m    317\u001b[0m \u001b[38;5;28;01mif\u001b[39;00m file \u001b[38;5;129;01min\u001b[39;00m {\u001b[38;5;241m0\u001b[39m, \u001b[38;5;241m1\u001b[39m, \u001b[38;5;241m2\u001b[39m}:\n\u001b[1;32m    318\u001b[0m     \u001b[38;5;28;01mraise\u001b[39;00m \u001b[38;5;167;01mValueError\u001b[39;00m(\n\u001b[1;32m    319\u001b[0m         \u001b[38;5;124mf\u001b[39m\u001b[38;5;124m\"\u001b[39m\u001b[38;5;124mIPython won\u001b[39m\u001b[38;5;124m'\u001b[39m\u001b[38;5;124mt let you open fd=\u001b[39m\u001b[38;5;132;01m{\u001b[39;00mfile\u001b[38;5;132;01m}\u001b[39;00m\u001b[38;5;124m by default \u001b[39m\u001b[38;5;124m\"\u001b[39m\n\u001b[1;32m    320\u001b[0m         \u001b[38;5;124m\"\u001b[39m\u001b[38;5;124mas it is likely to crash IPython. If you know what you are doing, \u001b[39m\u001b[38;5;124m\"\u001b[39m\n\u001b[1;32m    321\u001b[0m         \u001b[38;5;124m\"\u001b[39m\u001b[38;5;124myou can use builtins\u001b[39m\u001b[38;5;124m'\u001b[39m\u001b[38;5;124m open.\u001b[39m\u001b[38;5;124m\"\u001b[39m\n\u001b[1;32m    322\u001b[0m     )\n\u001b[0;32m--> 324\u001b[0m \u001b[38;5;28;01mreturn\u001b[39;00m \u001b[43mio_open\u001b[49m\u001b[43m(\u001b[49m\u001b[43mfile\u001b[49m\u001b[43m,\u001b[49m\u001b[43m \u001b[49m\u001b[38;5;241;43m*\u001b[39;49m\u001b[43margs\u001b[49m\u001b[43m,\u001b[49m\u001b[43m \u001b[49m\u001b[38;5;241;43m*\u001b[39;49m\u001b[38;5;241;43m*\u001b[39;49m\u001b[43mkwargs\u001b[49m\u001b[43m)\u001b[49m\n",
      "\u001b[0;31mFileNotFoundError\u001b[0m: [Errno 2] No such file or directory: './mcmc/chain.pkl'"
     ]
    }
   ],
   "source": [
    "# read the chain.pkl file and print the shape of the chain and the likelihood\n",
    "import pickle\n",
    "with open(\"./mcmc/chain.pkl\", \"rb\") as f:\n",
    "    chain = pickle.load(f)\n",
    "    print(chain['chain'].shape)\n",
    "    print(chain['log_likelihood'].shape)"
   ]
  },
  {
   "cell_type": "code",
   "execution_count": 5,
   "metadata": {},
   "outputs": [
    {
     "name": "stdout",
     "output_type": "stream",
     "text": [
      "[INFO][mcmc] Generate the prior class for pocoMC ...\n",
      "[INFO][mcmc] Starting pocoMC ...\n"
     ]
    },
    {
     "name": "stderr",
     "output_type": "stream",
     "text": [
      "Iter: 40it [54:12, 81.31s/it, beta=1, calls=702000, ESS=49279, logZ=-200, logP=-175, acc=0.742, steps=3, eff=1]         "
     ]
    },
    {
     "name": "stdout",
     "output_type": "stream",
     "text": [
      "[INFO][mcmc] Generate the posterior samples ...\n"
     ]
    },
    {
     "name": "stderr",
     "output_type": "stream",
     "text": [
      "\n"
     ]
    },
    {
     "name": "stdout",
     "output_type": "stream",
     "text": [
      "[INFO][mcmc] Generate the evidence ...\n",
      "Log evidence:  -199.9893007378884\n",
      "Log evidence error:  0.0037858260803364245\n",
      "[INFO][mcmc] Writing pocoMC chains to file...\n"
     ]
    }
   ],
   "source": [
    "os.environ[\"OMP_NUM_THREADS\"] = \"1\"\n",
    "# may have to: export RDMAV_FORK_SAFE=1 before running the code\n",
    "\n",
    "n_effective=8000\n",
    "n_active=4000\n",
    "n_prior=16000\n",
    "sample=\"tpcn\"\n",
    "n_max_steps=100\n",
    "random_state=42\n",
    "\n",
    "n_total = 50000\n",
    "n_evidence = 50000\n",
    "\n",
    "pool = 12\n",
    "\n",
    "sampler = mymcmc.run_pocoMC(n_effective=n_effective, n_active=n_active,\n",
    "                            n_prior=n_prior, sample=sample,\n",
    "                            n_max_steps=n_max_steps, random_state=random_state,\n",
    "                            n_total=n_total, n_evidence=n_evidence, pool=pool)\n"
   ]
  },
  {
   "cell_type": "code",
   "execution_count": 11,
   "metadata": {},
   "outputs": [
    {
     "name": "stdout",
     "output_type": "stream",
     "text": [
      "[INFO][mcmc] Starting MCMC ...\n",
      "[INFO][mcmc] no existing chain found, starting initial burn-in\n",
      "[INFO][mcmc] running 100 walkers for 3500 steps\n",
      "[INFO][mcmc] step 350: acceptance fraction: mean 0.0643, std 0.0299, min 0.0029, max 0.1400\n",
      "[INFO][mcmc] step 700: acceptance fraction: mean 0.0579, std 0.0288, min 0.0029, max 0.1157\n",
      "[INFO][mcmc] step 1050: acceptance fraction: mean 0.0569, std 0.0288, min 0.0029, max 0.1152\n",
      "[INFO][mcmc] step 1400: acceptance fraction: mean 0.0578, std 0.0280, min 0.0021, max 0.1021\n",
      "[INFO][mcmc] step 1750: acceptance fraction: mean 0.0586, std 0.0281, min 0.0029, max 0.1046\n",
      "[INFO][mcmc] step 2100: acceptance fraction: mean 0.0585, std 0.0281, min 0.0024, max 0.1005\n",
      "[INFO][mcmc] step 2450: acceptance fraction: mean 0.0594, std 0.0285, min 0.0024, max 0.1037\n",
      "[INFO][mcmc] step 2800: acceptance fraction: mean 0.0602, std 0.0293, min 0.0021, max 0.1036\n",
      "[INFO][mcmc] step 3150: acceptance fraction: mean 0.0604, std 0.0296, min 0.0019, max 0.1035\n",
      "[INFO][mcmc] step 3500: acceptance fraction: mean 0.0611, std 0.0301, min 0.0017, max 0.1034\n",
      "[INFO][mcmc] resampling walker positions\n",
      "[INFO][mcmc] running 100 walkers for 3500 steps\n",
      "[INFO][mcmc] step 350: acceptance fraction: mean 0.3653, std 0.0671, min 0.1971, max 0.5343\n",
      "[INFO][mcmc] step 700: acceptance fraction: mean 0.3655, std 0.0442, min 0.2586, max 0.4729\n",
      "[INFO][mcmc] step 1050: acceptance fraction: mean 0.3659, std 0.0347, min 0.2600, max 0.4524\n",
      "[INFO][mcmc] step 1400: acceptance fraction: mean 0.3674, std 0.0320, min 0.2471, max 0.4450\n",
      "[INFO][mcmc] step 1750: acceptance fraction: mean 0.3686, std 0.0291, min 0.2634, max 0.4291\n",
      "[INFO][mcmc] step 2100: acceptance fraction: mean 0.3680, std 0.0272, min 0.2762, max 0.4262\n",
      "[INFO][mcmc] step 2450: acceptance fraction: mean 0.3682, std 0.0249, min 0.3078, max 0.4253\n",
      "[INFO][mcmc] step 2800: acceptance fraction: mean 0.3686, std 0.0230, min 0.3139, max 0.4168\n",
      "[INFO][mcmc] step 3150: acceptance fraction: mean 0.3685, std 0.0216, min 0.3181, max 0.4229\n",
      "[INFO][mcmc] step 3500: acceptance fraction: mean 0.3685, std 0.0206, min 0.3197, max 0.4229\n",
      "[INFO][mcmc] burn-in complete, starting production\n",
      "[INFO][mcmc] running 100 walkers for 1000 steps\n",
      "[INFO][mcmc] step 100: acceptance fraction: mean 0.3597, std 0.0998, min 0.1200, max 0.6200\n",
      "[INFO][mcmc] step 200: acceptance fraction: mean 0.3560, std 0.0775, min 0.1700, max 0.5450\n",
      "[INFO][mcmc] step 300: acceptance fraction: mean 0.3595, std 0.0672, min 0.1833, max 0.5133\n",
      "[INFO][mcmc] step 400: acceptance fraction: mean 0.3587, std 0.0595, min 0.2000, max 0.5025\n",
      "[INFO][mcmc] step 500: acceptance fraction: mean 0.3599, std 0.0558, min 0.2160, max 0.4980\n",
      "[INFO][mcmc] step 600: acceptance fraction: mean 0.3622, std 0.0499, min 0.2483, max 0.4883\n",
      "[INFO][mcmc] step 700: acceptance fraction: mean 0.3637, std 0.0453, min 0.2714, max 0.4929\n",
      "[INFO][mcmc] step 800: acceptance fraction: mean 0.3667, std 0.0432, min 0.2737, max 0.4963\n",
      "[INFO][mcmc] step 900: acceptance fraction: mean 0.3667, std 0.0410, min 0.2767, max 0.4656\n",
      "[INFO][mcmc] step 1000: acceptance fraction: mean 0.3668, std 0.0384, min 0.2840, max 0.4660\n",
      "[INFO][mcmc] writing chain to file\n"
     ]
    }
   ],
   "source": [
    "nsteps = 1000\n",
    "nwalkers = 100\n",
    "nburnsteps = 7000\n",
    "status = None\n",
    "nthin = 2\n",
    "sampler = mymcmc.run_mcmc(nsteps=nsteps, nburnsteps=nburnsteps,\n",
    "                          nwalkers=nwalkers, status=status, nthin=nthin,\n",
    "                          skip_initial_state_check=True)"
   ]
  },
  {
   "cell_type": "code",
   "execution_count": null,
   "metadata": {},
   "outputs": [],
   "source": [
    "nsteps = 1000\n",
    "nwalkers = 100\n",
    "nburnsteps = 7000\n",
    "status = True\n",
    "nthin = 2\n",
    "ntemps = 30\n",
    "\n",
    "sampler = mymcmc.run_MCMC_ptemcee(nsteps=nsteps, nburnsteps=nburnsteps,\n",
    "                          nwalkers=nwalkers, status=status, nthin=nthin, ntemps=ntemps, nthreads=1)"
   ]
  },
  {
   "cell_type": "code",
   "execution_count": null,
   "metadata": {},
   "outputs": [],
   "source": [
    "nsteps=1000\n",
    "nwalkers=100\n",
    "ntemps=30\n",
    "maxtemp=100\n",
    "nstartparameters = 7000\n",
    "\n",
    "sampler = mymcmc.run_MCMC_PTLMC(nsteps=nsteps, nwalkers=nwalkers, ntemps=ntemps, maxtemp=maxtemp, nstartparameters=nstartparameters)"
   ]
  },
  {
   "cell_type": "code",
   "execution_count": null,
   "metadata": {},
   "outputs": [],
   "source": [
    "exp_path = \"./separate_training_posterior_data/example_data_test.pkl\"\n",
    "model_par = \"../data/modelDesign_3DMCGlauber.txt\"\n",
    "mymcmc = Chain(expdata_path=exp_path, model_parafile=model_par)\n",
    "\n",
    "folder = \"./test_PTEMCEE/\"\n",
    "emuPathList = [folder+\"AuAu200_dNdy_train_PCA_noLOG_PCSK_trained.sav\",\n",
    "               folder+\"AuAu200_PHOBOSdNdeta_train_PCA_noLOG_PCSK_trained.sav\",\n",
    "               folder+\"AuAu200_PHOBOSv2eta_train_PCA_noLOG_PCSK_trained.sav\",\n",
    "               folder+\"AuAu200_pTvn_train_PCA_noLOG_PCSK_trained.sav\",\n",
    "               folder+\"AuAu19p6_dNdy_train_PCA_noLOG_PCSK_trained.sav\",\n",
    "               folder+\"AuAu19p6_PHOBOSdNdeta_train_PCA_noLOG_PCSK_trained.sav\",\n",
    "               folder+\"AuAu19p6_pTvn_train_PCA_noLOG_PCSK_trained.sav\",\n",
    "               folder+\"AuAu7.7_dNdy_train_PCA_noLOG_PCSK_trained.sav\",\n",
    "               folder+\"AuAu7.7_pTvn_train_PCA_noLOG_PCSK_trained.sav\",\n",
    "               ]\n",
    "mymcmc.loadEmulator(emuPathList)\n",
    "\n",
    "nsteps = 1000\n",
    "nwalkers = 100\n",
    "nburnsteps = 7000\n",
    "status = True\n",
    "nthin = 2\n",
    "ntemps = 20\n",
    "\n",
    "sampler = mymcmc.run_MCMC_ptemcee(nsteps=nsteps, nburnsteps=nburnsteps,\n",
    "        nwalkers=nwalkers, status=status, nthin=nthin, ntemps=ntemps, nthreads=1)"
   ]
  },
  {
   "cell_type": "code",
   "execution_count": null,
   "metadata": {},
   "outputs": [],
   "source": []
  }
 ],
 "metadata": {
  "kernelspec": {
   "display_name": "Python 3",
   "language": "python",
   "name": "python3"
  },
  "language_info": {
   "codemirror_mode": {
    "name": "ipython",
    "version": 3
   },
   "file_extension": ".py",
   "mimetype": "text/x-python",
   "name": "python",
   "nbconvert_exporter": "python",
   "pygments_lexer": "ipython3",
   "version": "3.11.4"
  }
 },
 "nbformat": 4,
 "nbformat_minor": 2
}
